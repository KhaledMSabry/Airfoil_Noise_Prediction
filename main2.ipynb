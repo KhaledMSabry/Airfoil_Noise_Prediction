{
  "cells": [
    {
      "source": [
        "## Building an ML Pipeline for Airfoil noise prediction\n"
      ],
      "metadata": {
        "id": "87086990-e1dc-4a9c-843e-5191d080559a"
      },
      "id": "87086990-e1dc-4a9c-843e-5191d080559a",
      "cell_type": "markdown"
    },
    {
      "source": [
        "## Overview\n"
      ],
      "metadata": {
        "id": "da0e2984-ce74-49df-b68a-7c0b9c5213bb"
      },
      "id": "da0e2984-ce74-49df-b68a-7c0b9c5213bb",
      "cell_type": "markdown"
    },
    {
      "source": [
        "This project processes a NASA Airfoil Self Noise dataset to build and evaluate a machine learning model that predicts the SoundLevel based on other columns in the dataset. The primary goal is to clean the dataset, create a machine learning pipeline, evaluate the model's performance, and save the trained model for future use.\n",
        "\n"
      ],
      "metadata": {
        "id": "e50f779e-7cad-4b3b-b416-e44df3173479"
      },
      "id": "e50f779e-7cad-4b3b-b416-e44df3173479",
      "cell_type": "markdown"
    },
    {
      "source": [
        "## Steps\n",
        "\n",
        "- Part 1: Perform ETL activity\n",
        "  - Load a csv dataset\n",
        "  - Remove duplicates if any\n",
        "  - Drop rows with null values if any\n",
        "  - Make transformations\n",
        "  - Store the cleaned data in parquet format\n",
        "- Part 2: Create a  Machine Learning Pipeline\n",
        "  - Create a machine learning pipeline for prediction\n",
        "- Part 3: Evaluate the Model\n",
        "  - Evaluate the model using relevant metrics\n",
        "- Part 4: Persist the Model\n",
        "  - Save the model for future production use\n",
        "  - Load and verify the stored model\n"
      ],
      "metadata": {
        "id": "54121d8f-1bc7-4478-a623-70e75b8192ec"
      },
      "id": "54121d8f-1bc7-4478-a623-70e75b8192ec",
      "cell_type": "markdown"
    },
    {
      "source": [
        "## Datasets\n",
        "\n",
        "In this lab we will be using dataset(s):\n",
        "\n",
        " - The original dataset can be found here NASA airfoil self noise dataset. https://archive.ics.uci.edu/dataset/291/airfoil+self+noise\n",
        "\n",
        " - This dataset is licensed under a Creative Commons Attribution 4.0 International (CC BY 4.0) license.\n"
      ],
      "metadata": {
        "id": "937f5a85-ca17-4f78-b979-908b55590c6f"
      },
      "id": "937f5a85-ca17-4f78-b979-908b55590c6f",
      "cell_type": "markdown"
    },
    {
      "source": [
        "Diagram of an airfoil. - For informational purpose\n"
      ],
      "metadata": {
        "id": "b68dcda5-b10d-483a-9cb9-978f14b3c61e"
      },
      "id": "b68dcda5-b10d-483a-9cb9-978f14b3c61e",
      "cell_type": "markdown"
    },
    {
      "source": [
        "![Airfoil with flow](https://cf-courses-data.s3.us.cloud-object-storage.appdomain.cloud/IBMSkillsNetwork-BD0231EN-Coursera/images/Airfoil_with_flow.png)\n"
      ],
      "metadata": {
        "id": "337daa7e-49de-47ee-98d4-ce300337e5a5"
      },
      "id": "337daa7e-49de-47ee-98d4-ce300337e5a5",
      "cell_type": "markdown"
    },
    {
      "source": [
        "Diagram showing the Angle of attack. - For informational purpose\n"
      ],
      "metadata": {
        "id": "5308c180-64b3-4303-9cba-30fcbec8cc9b"
      },
      "id": "5308c180-64b3-4303-9cba-30fcbec8cc9b",
      "cell_type": "markdown"
    },
    {
      "source": [
        "![Airfoil angle of attack](https://cf-courses-data.s3.us.cloud-object-storage.appdomain.cloud/IBMSkillsNetwork-BD0231EN-Coursera/images/Airfoil_angle_of_attack.jpg)\n"
      ],
      "metadata": {
        "id": "bca9acad-51b4-4a4a-ada6-a2356c51b67c"
      },
      "id": "bca9acad-51b4-4a4a-ada6-a2356c51b67c",
      "cell_type": "markdown"
    },
    {
      "source": [
        "## Setup\n"
      ],
      "metadata": {
        "id": "5325ae3f-4c08-492d-b7ff-e49456ab8bbb"
      },
      "id": "5325ae3f-4c08-492d-b7ff-e49456ab8bbb",
      "cell_type": "markdown"
    },
    {
      "source": [
        "For this lab, we will be using the following libraries:\n",
        "\n",
        "*   [`PySpark`](https://spark.apache.org/docs/latest/api/python/index.html?utm_medium=Exinfluencer&utm_source=Exinfluencer&utm_content=000026UJ&utm_term=10006555&utm_id=NA-SkillsNetwork-Channel-SkillsNetworkCoursesIBMSkillsNetworkBD0231ENCoursera2789-2023-01-01) for connecting to the Spark Cluster\n"
      ],
      "metadata": {
        "id": "d0d6b904-0a0b-438c-965f-381f431ed616"
      },
      "id": "d0d6b904-0a0b-438c-965f-381f431ed616",
      "cell_type": "markdown"
    },
    {
      "source": [
        "!pip install pyspark==3.1.2 -q\n",
        "!pip install findspark -q"
      ],
      "metadata": {
        "tags": [],
        "id": "6295ee50-48be-457b-bbe4-7eed1e63a015"
      },
      "id": "6295ee50-48be-457b-bbe4-7eed1e63a015",
      "cell_type": "code",
      "execution_count": null,
      "outputs": []
    },
    {
      "source": [
        "### Importing Required Libraries\n",
        "\n"
      ],
      "metadata": {
        "id": "f33c6fe9-0dbd-460c-bcfb-58a5e80d1d4d"
      },
      "id": "f33c6fe9-0dbd-460c-bcfb-58a5e80d1d4d",
      "cell_type": "markdown"
    },
    {
      "source": [
        "# Suppress warnings generated by your code:\n",
        "def warn(*args, **kwargs):\n",
        "    pass\n",
        "import warnings\n",
        "warnings.warn = warn\n",
        "warnings.filterwarnings('ignore')\n",
        "\n",
        "# FindSpark simplifies the process of using Apache Spark with Python\n",
        "\n",
        "import findspark\n",
        "findspark.init()"
      ],
      "metadata": {
        "tags": [],
        "id": "9eae9e3b-aafd-4f9e-9990-59bd5fcf5591"
      },
      "id": "9eae9e3b-aafd-4f9e-9990-59bd5fcf5591",
      "cell_type": "code",
      "execution_count": null,
      "outputs": []
    },
    {
      "source": [
        "## Part 1 - Perform ETL activity\n"
      ],
      "metadata": {
        "id": "1215120b-b3bd-46ff-a8fc-a5702e3688f6"
      },
      "id": "1215120b-b3bd-46ff-a8fc-a5702e3688f6",
      "cell_type": "markdown"
    },
    {
      "source": [
        "### Import required libraries\n"
      ],
      "metadata": {
        "id": "db5c08ba-6f16-4a7b-820d-cc8bce009e7f"
      },
      "id": "db5c08ba-6f16-4a7b-820d-cc8bce009e7f",
      "cell_type": "markdown"
    },
    {
      "source": [
        "from pyspark.sql import SparkSession\n",
        "from pyspark.ml import Pipeline\n",
        "from pyspark.ml.pipeline import PipelineModel\n",
        "from pyspark.ml.feature import VectorAssembler\n",
        "from pyspark.ml.regression import LinearRegression\n",
        "from pyspark.ml.feature import StringIndexer\n",
        "from pyspark.ml.feature import StandardScaler"
      ],
      "metadata": {
        "tags": [],
        "id": "0e00c9c8-960d-45b7-98af-72d5c3c718a4"
      },
      "id": "0e00c9c8-960d-45b7-98af-72d5c3c718a4",
      "cell_type": "code",
      "execution_count": null,
      "outputs": []
    },
    {
      "source": [
        "### Create a spark session\n"
      ],
      "metadata": {
        "id": "4db036c2-f42c-4bbe-a2a2-d502255d929f"
      },
      "id": "4db036c2-f42c-4bbe-a2a2-d502255d929f",
      "cell_type": "markdown"
    },
    {
      "source": [
        "#Create a SparkSession\n",
        "\n",
        "spark = SparkSession.builder.appName(\"Airfoil noise prediction\").getOrCreate()"
      ],
      "metadata": {
        "tags": [],
        "outputsMetadata": {
          "0": {
            "height": 143,
            "type": "stream"
          }
        },
        "id": "ae335d4c-d091-4085-8cf2-8ca5cf15c69b",
        "outputId": "e5662328-6a59-45e1-9b88-25292c6f0ffd"
      },
      "id": "ae335d4c-d091-4085-8cf2-8ca5cf15c69b",
      "cell_type": "code",
      "execution_count": null,
      "outputs": [
        {
          "name": "stderr",
          "output_type": "stream",
          "text": [
            "24/05/12 16:08:08 WARN util.NativeCodeLoader: Unable to load native-hadoop library for your platform... using builtin-java classes where applicable\n",
            "Setting default log level to \"WARN\".\n",
            "To adjust logging level use sc.setLogLevel(newLevel). For SparkR, use setLogLevel(newLevel).\n"
          ]
        }
      ]
    },
    {
      "source": [
        "### Load the csv file into a dataframe\n"
      ],
      "metadata": {
        "id": "e49d7599-d034-4f48-a282-e02ab7e88533"
      },
      "id": "e49d7599-d034-4f48-a282-e02ab7e88533",
      "cell_type": "markdown"
    },
    {
      "source": [
        "Download the data file.\n",
        "\n",
        "NOTE : Please ensure you use the dataset below and not the original dataset mentioned above.\n"
      ],
      "metadata": {
        "id": "5833a762-101a-4c5e-bc56-ca80f5365a99"
      },
      "id": "5833a762-101a-4c5e-bc56-ca80f5365a99",
      "cell_type": "markdown"
    },
    {
      "source": [
        "!wget https://cf-courses-data.s3.us.cloud-object-storage.appdomain.cloud/IBMSkillsNetwork-BD0231EN-Coursera/datasets/NASA_airfoil_noise_raw.csv\n"
      ],
      "metadata": {
        "tags": [],
        "outputsMetadata": {
          "0": {
            "height": 521,
            "type": "stream"
          }
        },
        "id": "dc93baf9-9336-47bc-b76a-62c7e0132a0a",
        "outputId": "ff5cbb31-5751-40e5-ab57-b18d1238266e"
      },
      "id": "dc93baf9-9336-47bc-b76a-62c7e0132a0a",
      "cell_type": "code",
      "execution_count": null,
      "outputs": [
        {
          "name": "stdout",
          "output_type": "stream",
          "text": [
            "--2024-05-12 16:08:13--  https://cf-courses-data.s3.us.cloud-object-storage.appdomain.cloud/IBMSkillsNetwork-BD0231EN-Coursera/datasets/NASA_airfoil_noise_raw.csv\n",
            "Resolving cf-courses-data.s3.us.cloud-object-storage.appdomain.cloud (cf-courses-data.s3.us.cloud-object-storage.appdomain.cloud)... 169.63.118.104, 169.63.118.104\n",
            "Connecting to cf-courses-data.s3.us.cloud-object-storage.appdomain.cloud (cf-courses-data.s3.us.cloud-object-storage.appdomain.cloud)|169.63.118.104|:443... connected.\n",
            "HTTP request sent, awaiting response... 200 OK\n",
            "Length: 60682 (59K) [text/csv]\n",
            "Saving to: ‘NASA_airfoil_noise_raw.csv.1’\n",
            "\n",
            "NASA_airfoil_noise_ 100%[===================>]  59.26K  --.-KB/s    in 0.001s  \n",
            "\n",
            "2024-05-12 16:08:13 (59.7 MB/s) - ‘NASA_airfoil_noise_raw.csv.1’ saved [60682/60682]\n",
            "\n"
          ]
        }
      ]
    },
    {
      "source": [
        "Load the dataset into the spark dataframe\n"
      ],
      "metadata": {
        "id": "0683105f-61dd-478a-960f-6b909d535a3d"
      },
      "id": "0683105f-61dd-478a-960f-6b909d535a3d",
      "cell_type": "markdown"
    },
    {
      "source": [
        "# Load the dataset\n",
        "\n",
        "df = spark.read.csv(\"NASA_airfoil_noise_raw.csv\", header=True, inferSchema=True)\n"
      ],
      "metadata": {
        "tags": [],
        "outputsMetadata": {
          "0": {
            "height": 38,
            "type": "stream"
          }
        },
        "id": "64aef070-4b0e-4023-9b20-985feb5bfe46",
        "outputId": "a43024d3-4d5f-47f5-b179-76877b9cd958"
      },
      "id": "64aef070-4b0e-4023-9b20-985feb5bfe46",
      "cell_type": "code",
      "execution_count": null,
      "outputs": [
        {
          "name": "stderr",
          "output_type": "stream",
          "text": [
            "                                                                                \r"
          ]
        }
      ]
    },
    {
      "source": [
        "### Print top 5 rows of the dataset\n"
      ],
      "metadata": {
        "id": "4bc9d9a6-d18a-4f58-bf54-7a5411bbccd1"
      },
      "id": "4bc9d9a6-d18a-4f58-bf54-7a5411bbccd1",
      "cell_type": "markdown"
    },
    {
      "source": [
        "df.show(5)"
      ],
      "metadata": {
        "tags": [],
        "outputsMetadata": {
          "0": {
            "height": 458,
            "type": "stream"
          }
        },
        "id": "d0a460d5-674c-474d-bb46-584a87b31172",
        "outputId": "7f238e73-cd18-4a3f-9961-cfb03776966d"
      },
      "id": "d0a460d5-674c-474d-bb46-584a87b31172",
      "cell_type": "code",
      "execution_count": null,
      "outputs": [
        {
          "name": "stdout",
          "output_type": "stream",
          "text": [
            "+---------+-------------+-----------+------------------+-----------------------+----------+\n",
            "|Frequency|AngleOfAttack|ChordLength|FreeStreamVelocity|SuctionSideDisplacement|SoundLevel|\n",
            "+---------+-------------+-----------+------------------+-----------------------+----------+\n",
            "|      800|          0.0|     0.3048|              71.3|             0.00266337|   126.201|\n",
            "|     1000|          0.0|     0.3048|              71.3|             0.00266337|   125.201|\n",
            "|     1250|          0.0|     0.3048|              71.3|             0.00266337|   125.951|\n",
            "|     1600|          0.0|     0.3048|              71.3|             0.00266337|   127.591|\n",
            "|     2000|          0.0|     0.3048|              71.3|             0.00266337|   127.461|\n",
            "+---------+-------------+-----------+------------------+-----------------------+----------+\n",
            "only showing top 5 rows\n",
            "\n"
          ]
        }
      ]
    },
    {
      "source": [
        "### Print the total number of rows in the dataset\n"
      ],
      "metadata": {
        "id": "5a2d3ffb-3ac3-4322-9694-4f73e3877c37"
      },
      "id": "5a2d3ffb-3ac3-4322-9694-4f73e3877c37",
      "cell_type": "markdown"
    },
    {
      "source": [
        "rowcount1 = df.count()\n",
        "print(rowcount1)"
      ],
      "metadata": {
        "tags": [],
        "outputsMetadata": {
          "0": {
            "height": 38,
            "type": "stream"
          }
        },
        "id": "0a0322ef-1094-4867-8713-3894292f700d",
        "outputId": "1ac3adc4-8d6f-46bf-b3a7-a0e80d94c17e"
      },
      "id": "0a0322ef-1094-4867-8713-3894292f700d",
      "cell_type": "code",
      "execution_count": null,
      "outputs": [
        {
          "name": "stdout",
          "output_type": "stream",
          "text": [
            "1522\n"
          ]
        }
      ]
    },
    {
      "source": [
        "### Drop all the duplicate rows from the dataset\n"
      ],
      "metadata": {
        "id": "b6e4c199-a8de-42ac-a9d7-62cb7deb9983"
      },
      "id": "b6e4c199-a8de-42ac-a9d7-62cb7deb9983",
      "cell_type": "markdown"
    },
    {
      "source": [
        "df = df.dropDuplicates()\n"
      ],
      "metadata": {
        "tags": [],
        "id": "c951e671-ffc2-462e-b065-9dc64b87ae6e"
      },
      "id": "c951e671-ffc2-462e-b065-9dc64b87ae6e",
      "cell_type": "code",
      "execution_count": null,
      "outputs": []
    },
    {
      "source": [
        "### Print the total number of rows in the dataset\n"
      ],
      "metadata": {
        "id": "995b8dca-07ec-44b8-a184-5200061708fd"
      },
      "id": "995b8dca-07ec-44b8-a184-5200061708fd",
      "cell_type": "markdown"
    },
    {
      "source": [
        "rowcount2 = df.count()\n",
        "print(rowcount2)\n"
      ],
      "metadata": {
        "tags": [],
        "outputsMetadata": {
          "0": {
            "height": 38,
            "type": "stream"
          },
          "1": {
            "height": 38,
            "type": "stream"
          },
          "2": {
            "height": 38,
            "type": "stream"
          }
        },
        "id": "ef9b57d1-b4be-4c09-b473-8fbdd0ce1706",
        "outputId": "52abd7dc-3ba2-4375-a906-f8b6797f7aaf"
      },
      "id": "ef9b57d1-b4be-4c09-b473-8fbdd0ce1706",
      "cell_type": "code",
      "execution_count": null,
      "outputs": [
        {
          "name": "stderr",
          "output_type": "stream",
          "text": [
            "[Stage 6:===================================================>   (186 + 8) / 200]"
          ]
        },
        {
          "name": "stdout",
          "output_type": "stream",
          "text": [
            "1503\n"
          ]
        },
        {
          "name": "stderr",
          "output_type": "stream",
          "text": [
            "                                                                                \r"
          ]
        }
      ]
    },
    {
      "source": [
        "### Drop all the rows that contain null values from the dataset\n"
      ],
      "metadata": {
        "id": "75d714da-9654-406b-9fbd-96ccd8e83b24"
      },
      "id": "75d714da-9654-406b-9fbd-96ccd8e83b24",
      "cell_type": "markdown"
    },
    {
      "source": [
        "df = df.dropna()\n"
      ],
      "metadata": {
        "tags": [],
        "id": "8877c2d1-940a-4ae3-b2ad-4c8616633d06"
      },
      "id": "8877c2d1-940a-4ae3-b2ad-4c8616633d06",
      "cell_type": "code",
      "execution_count": null,
      "outputs": []
    },
    {
      "source": [
        "### Print the total number of rows in the dataset\n"
      ],
      "metadata": {
        "id": "55a50e2a-e923-4080-a157-42d353abf9a8"
      },
      "id": "55a50e2a-e923-4080-a157-42d353abf9a8",
      "cell_type": "markdown"
    },
    {
      "source": [
        "rowcount3 = df.count()\n",
        "print(rowcount3)\n"
      ],
      "metadata": {
        "tags": [],
        "outputsMetadata": {
          "0": {
            "height": 38,
            "type": "stream"
          },
          "1": {
            "height": 38,
            "type": "stream"
          },
          "2": {
            "height": 38,
            "type": "stream"
          }
        },
        "id": "7f189d66-e8c0-4aab-adf5-88b214cd4c1d",
        "outputId": "383ad027-0903-4046-9b34-209c8bf99f89"
      },
      "id": "7f189d66-e8c0-4aab-adf5-88b214cd4c1d",
      "cell_type": "code",
      "execution_count": null,
      "outputs": [
        {
          "name": "stderr",
          "output_type": "stream",
          "text": [
            "[Stage 9:=====================================================> (193 + 7) / 200]"
          ]
        },
        {
          "name": "stdout",
          "output_type": "stream",
          "text": [
            "1499\n"
          ]
        },
        {
          "name": "stderr",
          "output_type": "stream",
          "text": [
            "                                                                                \r"
          ]
        }
      ]
    },
    {
      "source": [
        "### Rename the column \"SoundLevel\" to \"SoundLevelDecibels\"Drop\n"
      ],
      "metadata": {
        "id": "bf573cbb-1a6e-48c1-ac19-27b1682d58ff"
      },
      "id": "bf573cbb-1a6e-48c1-ac19-27b1682d58ff",
      "cell_type": "markdown"
    },
    {
      "source": [
        "df = df.withColumnRenamed(\"SoundLevel\", \"SoundLevelDecibels\")\n"
      ],
      "metadata": {
        "tags": [],
        "id": "541d08ab-838a-4776-ba06-6938b1ab043e"
      },
      "id": "541d08ab-838a-4776-ba06-6938b1ab043e",
      "cell_type": "code",
      "execution_count": null,
      "outputs": []
    },
    {
      "source": [
        "### Save the dataframe in parquet formant, name the file as \"NASA_airfoil_noise_cleaned.parquet\"\n"
      ],
      "metadata": {
        "id": "700577de-6d34-4762-8ce8-3e432bfbc3ca"
      },
      "id": "700577de-6d34-4762-8ce8-3e432bfbc3ca",
      "cell_type": "markdown"
    },
    {
      "source": [
        "df.write.mode(\"overwrite\").parquet(\"NASA_airfoil_noise_cleaned.parquet\")\n"
      ],
      "metadata": {
        "tags": [],
        "outputsMetadata": {
          "0": {
            "height": 311,
            "type": "stream"
          }
        },
        "id": "6c557455-3029-4392-b292-e8e970f8c91a",
        "outputId": "db18719f-81bd-4592-8ac9-c4437f278d83"
      },
      "id": "6c557455-3029-4392-b292-e8e970f8c91a",
      "cell_type": "code",
      "execution_count": null,
      "outputs": [
        {
          "name": "stderr",
          "output_type": "stream",
          "text": [
            "[Stage 12:>                                                       (0 + 8) / 200]24/05/12 16:10:30 WARN hadoop.MemoryManager: Total allocation exceeds 95.00% (906,992,014 bytes) of heap memory\n",
            "Scaling row group sizes to 96.54% for 7 writers\n",
            "24/05/12 16:10:30 WARN hadoop.MemoryManager: Total allocation exceeds 95.00% (906,992,014 bytes) of heap memory\n",
            "Scaling row group sizes to 84.47% for 8 writers\n",
            "24/05/12 16:10:31 WARN hadoop.MemoryManager: Total allocation exceeds 95.00% (906,992,014 bytes) of heap memory\n",
            "Scaling row group sizes to 96.54% for 7 writers\n",
            "                                                                                \r"
          ]
        }
      ]
    },
    {
      "source": [
        "## Part - 2 Create a  Machine Learning Pipeline\n"
      ],
      "metadata": {
        "id": "76e4fece-67da-48a9-b8c0-e22211d5f0f5"
      },
      "id": "76e4fece-67da-48a9-b8c0-e22211d5f0f5",
      "cell_type": "markdown"
    },
    {
      "source": [
        "### Load data from \"NASA_airfoil_noise_cleaned.parquet\" into a dataframe\n"
      ],
      "metadata": {
        "id": "9ba89a5b-37ea-4e95-9599-34652e618c2a"
      },
      "id": "9ba89a5b-37ea-4e95-9599-34652e618c2a",
      "cell_type": "markdown"
    },
    {
      "source": [
        "df = spark.read.parquet(\"NASA_airfoil_noise_cleaned.parquet\")\n"
      ],
      "metadata": {
        "tags": [],
        "id": "86262806-ae1f-41bc-8aa9-0474e5018863"
      },
      "id": "86262806-ae1f-41bc-8aa9-0474e5018863",
      "cell_type": "code",
      "execution_count": null,
      "outputs": []
    },
    {
      "source": [
        "### Print the total number of rows in the dataset\n"
      ],
      "metadata": {
        "id": "2bc6071c-b54a-4148-8ed5-49621531c503"
      },
      "id": "2bc6071c-b54a-4148-8ed5-49621531c503",
      "cell_type": "markdown"
    },
    {
      "source": [
        "rowcount4 = df.count()\n",
        "print(rowcount4)\n",
        "\n"
      ],
      "metadata": {
        "tags": [],
        "outputsMetadata": {
          "0": {
            "height": 38,
            "type": "stream"
          },
          "1": {
            "height": 38,
            "type": "stream"
          },
          "2": {
            "height": 38,
            "type": "stream"
          }
        },
        "id": "416a39e7-7c5d-4624-b768-cef7fbae76c6",
        "outputId": "421e5969-ff2a-4928-c792-14f910aba7ad"
      },
      "id": "416a39e7-7c5d-4624-b768-cef7fbae76c6",
      "cell_type": "code",
      "execution_count": null,
      "outputs": [
        {
          "name": "stderr",
          "output_type": "stream",
          "text": [
            "[Stage 14:=====================>                                    (3 + 5) / 8]"
          ]
        },
        {
          "name": "stdout",
          "output_type": "stream",
          "text": [
            "1499\n"
          ]
        },
        {
          "name": "stderr",
          "output_type": "stream",
          "text": [
            "                                                                                \r"
          ]
        }
      ]
    },
    {
      "source": [
        "### Define the VectorAssembler pipeline stage\n"
      ],
      "metadata": {
        "id": "26f33644-3897-4ed6-b61f-d8fff6ebbbac"
      },
      "id": "26f33644-3897-4ed6-b61f-d8fff6ebbbac",
      "cell_type": "markdown"
    },
    {
      "source": [
        "Stage 1 - Assemble the input columns into a single column \"features\". Use all the columns except SoundLevelDecibels as input features.\n"
      ],
      "metadata": {
        "id": "3de64187-8e8d-4389-8b70-000b5bb1e15e"
      },
      "id": "3de64187-8e8d-4389-8b70-000b5bb1e15e",
      "cell_type": "markdown"
    },
    {
      "source": [
        "assembler = VectorAssembler(inputCols=[\"Frequency\", \"AngleOfAttack\", \"ChordLength\", \"FreeStreamVelocity\", \\\n",
        "                                       \"SuctionSideDisplacement\"], outputCol=\"features\")\n",
        "\n"
      ],
      "metadata": {
        "tags": [],
        "id": "ebca0a89-a669-40db-965c-589edacfe93e"
      },
      "id": "ebca0a89-a669-40db-965c-589edacfe93e",
      "cell_type": "code",
      "execution_count": null,
      "outputs": []
    },
    {
      "source": [
        "### Define the StandardScaler pipeline stage\n"
      ],
      "metadata": {
        "id": "ec711c4e-2d58-4db4-83e7-42b5ec7e056e"
      },
      "id": "ec711c4e-2d58-4db4-83e7-42b5ec7e056e",
      "cell_type": "markdown"
    },
    {
      "source": [
        "Stage 2 - Scale the \"features\" using standard scaler and store in \"scaledFeatures\" column\n"
      ],
      "metadata": {
        "id": "83fd2b9b-20dd-4404-b237-1899d92788c1"
      },
      "id": "83fd2b9b-20dd-4404-b237-1899d92788c1",
      "cell_type": "markdown"
    },
    {
      "source": [
        "scaler = StandardScaler(inputCol=\"features\", outputCol=\"scaledFeatures\")\n"
      ],
      "metadata": {
        "tags": [],
        "id": "706d7540-7373-4716-83d7-f75901f4e7b7"
      },
      "id": "706d7540-7373-4716-83d7-f75901f4e7b7",
      "cell_type": "code",
      "execution_count": null,
      "outputs": []
    },
    {
      "source": [
        "### Define the StandardScaler pipeline stage\n"
      ],
      "metadata": {
        "id": "880d94da-7efb-4b50-81e3-74388eb3f9f4"
      },
      "id": "880d94da-7efb-4b50-81e3-74388eb3f9f4",
      "cell_type": "markdown"
    },
    {
      "source": [
        "Stage 3 - Create a LinearRegression stage to predict \"SoundLevelDecibels\"\n",
        "\n",
        "**Note:You need to use the scaledfeatures retreived in the previous step.**\n"
      ],
      "metadata": {
        "id": "31f6abc2-1dc1-4376-86d3-4dcc10721cba"
      },
      "id": "31f6abc2-1dc1-4376-86d3-4dcc10721cba",
      "cell_type": "markdown"
    },
    {
      "source": [
        "lr = LinearRegression(featuresCol=\"scaledFeatures\", labelCol=\"SoundLevelDecibels\")\n"
      ],
      "metadata": {
        "tags": [],
        "id": "5cfb4ecc-66e3-4b85-8c20-71676a1d7bcd"
      },
      "id": "5cfb4ecc-66e3-4b85-8c20-71676a1d7bcd",
      "cell_type": "code",
      "execution_count": null,
      "outputs": []
    },
    {
      "source": [
        "### Build the pipeline\n"
      ],
      "metadata": {
        "id": "7e4792ea-6e89-4a71-8c62-b2b76be7acd6"
      },
      "id": "7e4792ea-6e89-4a71-8c62-b2b76be7acd6",
      "cell_type": "markdown"
    },
    {
      "source": [
        "Build a pipeline using the above three stages\n"
      ],
      "metadata": {
        "id": "4fe6ccfd-c8ea-4d1b-9dd7-b94ceba74f2f"
      },
      "id": "4fe6ccfd-c8ea-4d1b-9dd7-b94ceba74f2f",
      "cell_type": "markdown"
    },
    {
      "source": [
        "pipeline = Pipeline(stages=[assembler, scaler, lr])\n"
      ],
      "metadata": {
        "tags": [],
        "id": "4ae01e93-db6f-47f2-9ca2-2fe3b3b6d4de"
      },
      "id": "4ae01e93-db6f-47f2-9ca2-2fe3b3b6d4de",
      "cell_type": "code",
      "execution_count": null,
      "outputs": []
    },
    {
      "source": [
        "### Split the data\n"
      ],
      "metadata": {
        "id": "ba070054-8bda-47a0-a846-de5de0453410"
      },
      "id": "ba070054-8bda-47a0-a846-de5de0453410",
      "cell_type": "markdown"
    },
    {
      "source": [
        "# Split the data into training and testing sets with 70:30 split.\n",
        "# set the value of seed to 42\n",
        "\n",
        "(trainingData, testingData) = df.randomSplit([0.7, 0.3], seed=42)\n",
        "\n"
      ],
      "metadata": {
        "tags": [],
        "id": "fcfff6e7-27a8-41ed-bd8f-9d85e4dbfb35"
      },
      "id": "fcfff6e7-27a8-41ed-bd8f-9d85e4dbfb35",
      "cell_type": "code",
      "execution_count": null,
      "outputs": []
    },
    {
      "source": [
        "### Fit the pipeline\n"
      ],
      "metadata": {
        "id": "ab3f2950-daa7-4250-8bec-325308fcddff"
      },
      "id": "ab3f2950-daa7-4250-8bec-325308fcddff",
      "cell_type": "markdown"
    },
    {
      "source": [
        "# Fit the pipeline using the training data\n",
        "\n",
        "pipelineModel = pipeline.fit(trainingData)\n"
      ],
      "metadata": {
        "tags": [],
        "outputsMetadata": {
          "0": {
            "height": 290,
            "type": "stream"
          }
        },
        "id": "b366edff-6402-4568-ac6c-1cd05f1b942c",
        "outputId": "b147a922-3ae1-4276-e3d3-726b4af31dff"
      },
      "id": "b366edff-6402-4568-ac6c-1cd05f1b942c",
      "cell_type": "code",
      "execution_count": null,
      "outputs": [
        {
          "name": "stderr",
          "output_type": "stream",
          "text": [
            "24/05/12 16:12:42 WARN util.Instrumentation: [2273925f] regParam is zero, which might cause numerical instability and overfitting.\n",
            "[Stage 19:>                                                         (0 + 8) / 8]24/05/12 16:12:44 WARN netlib.BLAS: Failed to load implementation from: com.github.fommil.netlib.NativeSystemBLAS\n",
            "24/05/12 16:12:44 WARN netlib.BLAS: Failed to load implementation from: com.github.fommil.netlib.NativeRefBLAS\n",
            "24/05/12 16:12:45 WARN netlib.LAPACK: Failed to load implementation from: com.github.fommil.netlib.NativeSystemLAPACK\n",
            "24/05/12 16:12:45 WARN netlib.LAPACK: Failed to load implementation from: com.github.fommil.netlib.NativeRefLAPACK\n",
            "                                                                                \r"
          ]
        }
      ]
    },
    {
      "source": [
        "## Part 3 - Evaluate the Model\n"
      ],
      "metadata": {
        "id": "529f0234-f7e2-446b-9417-2d93d473c4d0"
      },
      "id": "529f0234-f7e2-446b-9417-2d93d473c4d0",
      "cell_type": "markdown"
    },
    {
      "source": [
        "### Predict using the model\n"
      ],
      "metadata": {
        "id": "ceec33cd-f4b3-4926-9323-ca6e69645cf6"
      },
      "id": "ceec33cd-f4b3-4926-9323-ca6e69645cf6",
      "cell_type": "markdown"
    },
    {
      "source": [
        "# Make predictions on testing data\n",
        "\n",
        "predictions = pipelineModel.transform(testingData)\n"
      ],
      "metadata": {
        "tags": [],
        "id": "d5e04338-aa7c-47f8-8134-47a0738af886"
      },
      "id": "d5e04338-aa7c-47f8-8134-47a0738af886",
      "cell_type": "code",
      "execution_count": null,
      "outputs": []
    },
    {
      "source": [
        "### Print the MSE\n"
      ],
      "metadata": {
        "id": "865f4c32-1ba0-484d-b83e-39bbee070122"
      },
      "id": "865f4c32-1ba0-484d-b83e-39bbee070122",
      "cell_type": "markdown"
    },
    {
      "source": [
        "from pyspark.ml.evaluation import RegressionEvaluator\n",
        "\n",
        "evaluator = RegressionEvaluator(predictionCol=\"prediction\", labelCol=\"SoundLevelDecibels\", metricName=\"mse\")\n",
        "mse = evaluator.evaluate(predictions)\n",
        "print(mse)\n"
      ],
      "metadata": {
        "tags": [],
        "outputsMetadata": {
          "0": {
            "height": 38,
            "type": "stream"
          },
          "1": {
            "height": 38,
            "type": "stream"
          },
          "2": {
            "height": 38,
            "type": "stream"
          }
        },
        "id": "40cdee43-7c49-434b-b259-eb88e5cad41c",
        "outputId": "41d36489-21ef-4661-8e85-63fc5ac1d725"
      },
      "id": "40cdee43-7c49-434b-b259-eb88e5cad41c",
      "cell_type": "code",
      "execution_count": null,
      "outputs": [
        {
          "name": "stderr",
          "output_type": "stream",
          "text": [
            "[Stage 26:>                                                         (0 + 8) / 8]"
          ]
        },
        {
          "name": "stdout",
          "output_type": "stream",
          "text": [
            "22.593754071348812\n"
          ]
        },
        {
          "name": "stderr",
          "output_type": "stream",
          "text": [
            "                                                                                \r"
          ]
        }
      ]
    },
    {
      "source": [
        "### Print the MAE\n"
      ],
      "metadata": {
        "id": "bc327128-d8af-4d72-9b7e-2ee3c2f9425c"
      },
      "id": "bc327128-d8af-4d72-9b7e-2ee3c2f9425c",
      "cell_type": "markdown"
    },
    {
      "source": [
        "evaluator = RegressionEvaluator(predictionCol=\"prediction\", labelCol=\"SoundLevelDecibels\", metricName=\"mae\")\n",
        "mae = evaluator.evaluate(predictions)\n",
        "print(mae)"
      ],
      "metadata": {
        "id": "ddd43e6f-8f36-425f-b4ec-39b583d650b9"
      },
      "cell_type": "code",
      "id": "ddd43e6f-8f36-425f-b4ec-39b583d650b9",
      "outputs": [],
      "execution_count": null
    },
    {
      "source": [
        "### Print the R-Squared(R2)\n"
      ],
      "metadata": {
        "id": "bcac3034-6178-4c47-bf5c-2caa90114c48"
      },
      "id": "bcac3034-6178-4c47-bf5c-2caa90114c48",
      "cell_type": "markdown"
    },
    {
      "source": [
        "evaluator = RegressionEvaluator(predictionCol=\"prediction\", labelCol=\"SoundLevelDecibels\", metricName=\"r2\")\n",
        "r2 = evaluator.evaluate(predictions)\n",
        "print(r2)\n"
      ],
      "metadata": {
        "tags": [],
        "outputsMetadata": {
          "0": {
            "height": 38,
            "type": "stream"
          },
          "1": {
            "height": 38,
            "type": "stream"
          },
          "2": {
            "height": 38,
            "type": "stream"
          }
        },
        "id": "95bfef33-57b7-4372-915e-836f3f31b02f",
        "outputId": "50de692b-57e7-475b-db7e-2a07d08e6fdd"
      },
      "id": "95bfef33-57b7-4372-915e-836f3f31b02f",
      "cell_type": "code",
      "execution_count": null,
      "outputs": [
        {
          "name": "stderr",
          "output_type": "stream",
          "text": [
            "[Stage 30:>                                                         (0 + 8) / 8]"
          ]
        },
        {
          "name": "stdout",
          "output_type": "stream",
          "text": [
            "0.5426016508689058\n"
          ]
        },
        {
          "name": "stderr",
          "output_type": "stream",
          "text": [
            "                                                                                \r"
          ]
        }
      ]
    },
    {
      "source": [
        "## Part 4 - Persist the Model\n"
      ],
      "metadata": {
        "id": "29e62de8-378a-429f-9b03-64fbc6a416f9"
      },
      "id": "29e62de8-378a-429f-9b03-64fbc6a416f9",
      "cell_type": "markdown"
    },
    {
      "source": [
        "### Save the model to the path \"NASA_Airfoil\"\n"
      ],
      "metadata": {
        "id": "49f49859-ff68-4d2f-9d58-ae3dc7899239"
      },
      "id": "49f49859-ff68-4d2f-9d58-ae3dc7899239",
      "cell_type": "markdown"
    },
    {
      "source": [
        "# Save the pipeline model as \"NASA_Airfoil\"\n",
        "pipelineModel.write().overwrite().save(\"NASA_Airfoil\")"
      ],
      "metadata": {
        "tags": [],
        "outputsMetadata": {
          "0": {
            "height": 38,
            "type": "stream"
          }
        },
        "id": "d5ddbc92-1440-48a3-a3eb-d5e6f387982b",
        "outputId": "037ef66a-4b2f-4f04-bc70-8f7bf98422d2"
      },
      "id": "d5ddbc92-1440-48a3-a3eb-d5e6f387982b",
      "cell_type": "code",
      "execution_count": null,
      "outputs": [
        {
          "name": "stderr",
          "output_type": "stream",
          "text": [
            "                                                                                \r"
          ]
        }
      ]
    },
    {
      "source": [
        "### Load the model from the path \"Final_Project\"\n"
      ],
      "metadata": {
        "id": "d0f9349a-5418-4d52-8cc6-48effd8da219"
      },
      "id": "d0f9349a-5418-4d52-8cc6-48effd8da219",
      "cell_type": "markdown"
    },
    {
      "source": [
        "# Load the pipeline model you have created in the previous step\n",
        "loadedPipelineModel = PipelineModel.load(\"NASA_Airfoil\")\n"
      ],
      "metadata": {
        "tags": [],
        "id": "39dbe9b8-fb8a-4402-9bf6-743be9b99914"
      },
      "id": "39dbe9b8-fb8a-4402-9bf6-743be9b99914",
      "cell_type": "code",
      "execution_count": null,
      "outputs": []
    },
    {
      "source": [
        "### Make predictions using the loaded model on the testdata\n"
      ],
      "metadata": {
        "id": "7c828327-f539-469b-aef1-8ef334dafde5"
      },
      "id": "7c828327-f539-469b-aef1-8ef334dafde5",
      "cell_type": "markdown"
    },
    {
      "source": [
        "# Use the loaded pipeline model and make predictions using testingData\n",
        "predictions = loadedPipelineModel.transform(testingData)\n"
      ],
      "metadata": {
        "tags": [],
        "id": "440081fb-91a0-4975-9f74-285b2b0353dc"
      },
      "id": "440081fb-91a0-4975-9f74-285b2b0353dc",
      "cell_type": "code",
      "execution_count": null,
      "outputs": []
    },
    {
      "source": [
        "### Show the predictions\n"
      ],
      "metadata": {
        "id": "27cdfd25-86a1-4e0a-8920-7af92dd6172b"
      },
      "id": "27cdfd25-86a1-4e0a-8920-7af92dd6172b",
      "cell_type": "markdown"
    },
    {
      "source": [
        "#show top 5 rows from the predections dataframe. Display only the label column and predictions\n",
        "\n",
        "predictions.show(5)"
      ],
      "metadata": {
        "tags": [],
        "outputsMetadata": {
          "0": {
            "height": 38,
            "type": "stream"
          },
          "1": {
            "height": 616,
            "type": "stream"
          },
          "2": {
            "height": 38,
            "type": "stream"
          }
        },
        "id": "eb8e5a3e-4e06-4ba1-b581-dc225188fda9",
        "outputId": "467e205b-12bf-41ff-9301-2dee37407b74"
      },
      "id": "eb8e5a3e-4e06-4ba1-b581-dc225188fda9",
      "cell_type": "code",
      "execution_count": null,
      "outputs": [
        {
          "name": "stderr",
          "output_type": "stream",
          "text": [
            "[Stage 52:>                                                         (0 + 1) / 1]"
          ]
        },
        {
          "name": "stdout",
          "output_type": "stream",
          "text": [
            "+---------+-------------+-----------+------------------+-----------------------+------------------+--------------------+--------------------+------------------+\n",
            "|Frequency|AngleOfAttack|ChordLength|FreeStreamVelocity|SuctionSideDisplacement|SoundLevelDecibels|            features|      scaledFeatures|        prediction|\n",
            "+---------+-------------+-----------+------------------+-----------------------+------------------+--------------------+--------------------+------------------+\n",
            "|      200|          9.9|     0.1524|              39.6|              0.0233328|           127.315|[200.0,9.9,0.1524...|[0.06338939572741...|123.64344009624753|\n",
            "|      200|         15.4|     0.0508|              31.7|              0.0289853|           119.975|[200.0,15.4,0.050...|[0.06338939572741...|123.48695788614877|\n",
            "|      200|         15.4|     0.0508|              39.6|              0.0282593|           121.783|[200.0,15.4,0.050...|[0.06338939572741...|124.38983849684254|\n",
            "|      250|         19.7|     0.0508|              39.6|               0.036484|           127.224|[250.0,19.7,0.050...|[0.07923674465927...|121.44706993294302|\n",
            "|      315|          4.0|     0.2286|              39.6|             0.00473801|           122.229|[315.0,4.0,0.2286...|[0.09983829827068...|125.68312652454188|\n",
            "+---------+-------------+-----------+------------------+-----------------------+------------------+--------------------+--------------------+------------------+\n",
            "only showing top 5 rows\n",
            "\n"
          ]
        },
        {
          "name": "stderr",
          "output_type": "stream",
          "text": [
            "                                                                                \r"
          ]
        }
      ]
    },
    {
      "source": [
        "### Stop Spark Session\n"
      ],
      "metadata": {
        "id": "29767e1c-7669-425c-a2c9-ef78e4315e57"
      },
      "id": "29767e1c-7669-425c-a2c9-ef78e4315e57",
      "cell_type": "markdown"
    },
    {
      "source": [
        "spark.stop()"
      ],
      "metadata": {
        "tags": [],
        "id": "7cb6ea6f-48c0-41e3-acb4-72b94b172fd0"
      },
      "id": "7cb6ea6f-48c0-41e3-acb4-72b94b172fd0",
      "cell_type": "code",
      "execution_count": null,
      "outputs": []
    },
    {
      "source": [
        "This project is part of an IBM course.\n"
      ],
      "metadata": {
        "id": "e082593d-374c-4769-9d09-7c76e1cc1e13"
      },
      "id": "e082593d-374c-4769-9d09-7c76e1cc1e13",
      "cell_type": "markdown"
    }
  ],
  "metadata": {
    "kernelspec": {
      "display_name": "Python 3 (ipykernel)",
      "language": "python",
      "name": "python3"
    },
    "language_info": {
      "name": "python",
      "version": "3.10.12",
      "mimetype": "text/x-python",
      "codemirror_mode": {
        "name": "ipython",
        "version": 3
      },
      "pygments_lexer": "ipython3",
      "nbconvert_exporter": "python",
      "file_extension": ".py"
    },
    "editor": "DataLab",
    "colab": {
      "provenance": []
    }
  },
  "nbformat": 4,
  "nbformat_minor": 5
}